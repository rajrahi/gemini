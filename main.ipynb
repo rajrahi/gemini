{
 "cells": [
  {
   "cell_type": "code",
   "execution_count": 6,
   "id": "1ad1eee6",
   "metadata": {},
   "outputs": [
    {
     "name": "stderr",
     "output_type": "stream",
     "text": [
      "WARNING: Retrying (Retry(total=4, connect=None, read=None, redirect=None, status=None)) after connection broken by 'NewConnectionError('<pip._vendor.urllib3.connection.HTTPSConnection object at 0x000001D86EBB0C50>: Failed to establish a new connection: [Errno 11001] getaddrinfo failed')': /simple/google-generativeai/\n",
      "WARNING: Retrying (Retry(total=3, connect=None, read=None, redirect=None, status=None)) after connection broken by 'NewConnectionError('<pip._vendor.urllib3.connection.HTTPSConnection object at 0x000001D86EBB19D0>: Failed to establish a new connection: [Errno 11001] getaddrinfo failed')': /simple/google-generativeai/\n",
      "WARNING: Retrying (Retry(total=2, connect=None, read=None, redirect=None, status=None)) after connection broken by 'NewConnectionError('<pip._vendor.urllib3.connection.HTTPSConnection object at 0x000001D86EBB2650>: Failed to establish a new connection: [Errno 11001] getaddrinfo failed')': /simple/google-generativeai/\n",
      "WARNING: Retrying (Retry(total=1, connect=None, read=None, redirect=None, status=None)) after connection broken by 'NewConnectionError('<pip._vendor.urllib3.connection.HTTPSConnection object at 0x000001D86EBB31D0>: Failed to establish a new connection: [Errno 11001] getaddrinfo failed')': /simple/google-generativeai/\n",
      "WARNING: Retrying (Retry(total=0, connect=None, read=None, redirect=None, status=None)) after connection broken by 'NewConnectionError('<pip._vendor.urllib3.connection.HTTPSConnection object at 0x000001D86EBB3DD0>: Failed to establish a new connection: [Errno 11001] getaddrinfo failed')': /simple/google-generativeai/\n",
      "ERROR: Could not find a version that satisfies the requirement google-generativeai (from versions: none)\n",
      "ERROR: No matching distribution found for google-generativeai\n"
     ]
    }
   ],
   "source": [
    "! pip install google-generativeai pydantic\n"
   ]
  },
  {
   "cell_type": "code",
   "execution_count": null,
   "id": "759ee3bb",
   "metadata": {},
   "outputs": [
    {
     "name": "stdout",
     "output_type": "stream",
     "text": [
      "[\n",
      "  {\n",
      "    \"recipe_name\": \"Chocolate Chip Cookies\",\n",
      "    \"ingredients\": [\n",
      "      \"butter\",\n",
      "      \"sugar\",\n",
      "      \"eggs\",\n",
      "      \"vanilla extract\",\n",
      "      \"flour\",\n",
      "      \"baking soda\",\n",
      "      \"salt\",\n",
      "      \"chocolate chips\"\n",
      "    ]\n",
      "  },\n",
      "  {\n",
      "    \"recipe_name\": \"Oatmeal Raisin Cookies\",\n",
      "    \"ingredients\": [\n",
      "      \"butter\",\n",
      "      \"sugar\",\n",
      "      \"eggs\",\n",
      "      \"vanilla extract\",\n",
      "      \"flour\",\n",
      "      \"baking soda\",\n",
      "      \"salt\",\n",
      "      \"oats\",\n",
      "      \"raisins\"\n",
      "    ]\n",
      "  },\n",
      "  {\n",
      "    \"recipe_name\": \"Peanut Butter Cookies\",\n",
      "    \"ingredients\": [\n",
      "      \"peanut butter\",\n",
      "      \"sugar\",\n",
      "      \"eggs\",\n",
      "      \"flour\",\n",
      "      \"baking soda\",\n",
      "      \"salt\"\n",
      "    ]\n",
      "  },\n",
      "  {\n",
      "    \"recipe_name\": \"Snickerdoodles\",\n",
      "    \"ingredients\": [\n",
      "      \"butter\",\n",
      "      \"sugar\",\n",
      "      \"eggs\",\n",
      "      \"cream of tartar\",\n",
      "      \"flour\",\n",
      "      \"baking soda\",\n",
      "      \"salt\",\n",
      "      \"cinnamon\"\n",
      "    ]\n",
      "  },\n",
      "  {\n",
      "    \"recipe_name\": \"Sugar Cookies\",\n",
      "    \"ingredients\": [\n",
      "      \"butter\",\n",
      "      \"sugar\",\n",
      "      \"eggs\",\n",
      "      \"flour\",\n",
      "      \"baking soda\",\n",
      "      \"salt\",\n",
      "      \"vanilla extract\"\n",
      "    ]\n",
      "  }\n",
      "]\n"
     ]
    }
   ],
   "source": [
    "import google.generativeai as genai\n",
    "import json  # <-- You forgot this one\n",
    "\n",
    "# Configure the Gemini client (only needed once in your app)\n",
    "genai.configure(api_key=\"Key\")  # Replace with your actual API key\n",
    "\n",
    "# Use the 1.5 Flash model with JSON output\n",
    "model = genai.GenerativeModel(\n",
    "    \"gemini-1.5-flash\",\n",
    "    generation_config={\"response_mime_type\": \"application/json\"}\n",
    ")\n",
    "\n",
    "# Prompt Gemini to follow a simple schema\n",
    "prompt = \"\"\"\n",
    "List 5 popular cookie recipes.\n",
    "Use this JSON schema:\n",
    "  Recipe = {\"recipe_name\": str , \"ingredients\": list[str]}\n",
    "Return a `list[Recipe]`.\n",
    "\"\"\"\n",
    "\n",
    "# Generate and parse the response\n",
    "response = model.generate_content(prompt)\n",
    "\n",
    "# Safely parse the JSON from the response text\n",
    "try:\n",
    "    data = json.loads(response.text)\n",
    "    print(json.dumps(data, indent=2))\n",
    "except Exception as e:\n",
    "    print(\"Failed to parse JSON:\", e)\n",
    "    print(\"Raw response:\\n\", response.text)\n"
   ]
  },
  {
   "cell_type": "code",
   "execution_count": 20,
   "id": "e342e3c7",
   "metadata": {},
   "outputs": [
    {
     "name": "stdout",
     "output_type": "stream",
     "text": [
      "Recipe: Chocolate Chip Cookies\n",
      "Ingredients: ['butter', 'sugar', 'eggs', 'vanilla extract', 'flour', 'baking soda', 'salt', 'chocolate chips']\n",
      "\n",
      "Recipe: Oatmeal Raisin Cookies\n",
      "Ingredients: ['butter', 'sugar', 'eggs', 'vanilla extract', 'flour', 'baking soda', 'salt', 'oats', 'raisins']\n",
      "\n",
      "Recipe: Peanut Butter Cookies\n",
      "Ingredients: ['peanut butter', 'sugar', 'eggs', 'flour', 'baking soda', 'salt']\n",
      "\n",
      "Recipe: Snickerdoodles\n",
      "Ingredients: ['butter', 'sugar', 'eggs', 'cream of tartar', 'flour', 'baking soda', 'salt', 'cinnamon']\n",
      "\n",
      "Recipe: Sugar Cookies\n",
      "Ingredients: ['butter', 'sugar', 'eggs', 'flour', 'baking soda', 'salt', 'vanilla extract']\n",
      "\n",
      "First recipe:\n",
      "Chocolate Chip Cookies\n",
      "['butter', 'sugar', 'eggs', 'vanilla extract', 'flour', 'baking soda', 'salt', 'chocolate chips']\n"
     ]
    }
   ],
   "source": [
    "from pydantic import BaseModel\n",
    "from typing import List\n",
    "import json\n",
    "\n",
    "# Define Pydantic models\n",
    "class Recipe(BaseModel):\n",
    "    ingredients: List[str]\n",
    "    recipe_name: str\n",
    "\n",
    "class RecipeList(BaseModel):\n",
    "    recipes: List[Recipe]\n",
    "\n",
    "# Create Pydantic model instance\n",
    "recipe_list = RecipeList(recipes=[Recipe(**recipe) for recipe in data])\n",
    "\n",
    "# Access and print recipe data\n",
    "for recipe in recipe_list.recipes:\n",
    "    print(f\"Recipe: {recipe.recipe_name}\")\n",
    "    print(f\"Ingredients: {recipe.ingredients}\")\n",
    "    print()\n",
    "\n",
    "# Accessing a specific recipe\n",
    "print(\"First recipe:\")\n",
    "print(recipe_list.recipes[0].recipe_name)\n",
    "print(recipe_list.recipes[0].ingredients)"
   ]
  }
 ],
 "metadata": {
  "kernelspec": {
   "display_name": ".venv",
   "language": "python",
   "name": "python3"
  },
  "language_info": {
   "codemirror_mode": {
    "name": "ipython",
    "version": 3
   },
   "file_extension": ".py",
   "mimetype": "text/x-python",
   "name": "python",
   "nbconvert_exporter": "python",
   "pygments_lexer": "ipython3",
   "version": "3.11.9"
  }
 },
 "nbformat": 4,
 "nbformat_minor": 5
}
